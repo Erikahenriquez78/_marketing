{
 "cells": [
  {
   "cell_type": "code",
   "execution_count": 1,
   "metadata": {},
   "outputs": [],
   "source": [
    "# f = open(hamListPath, 'rb')\n",
    "#  hamList = pickle.load(f)\n",
    "#  f.close()\n",
    "# f = open(hamListPath, 'wb')\n",
    "# pickle.dump(hamList, f)\n",
    "# f.close()"
   ]
  },
  {
   "cell_type": "code",
   "execution_count": 2,
   "metadata": {},
   "outputs": [],
   "source": [
    "import pandas as pd\n",
    "from sklearn.model_selection import train_test_split\n",
    "from sklearn.model_selection import train_test_split, GridSearchCV\n",
    "from sklearn.pipeline import Pipeline\n",
    "from sklearn.preprocessing import StandardScaler\n",
    "from sklearn.linear_model import LogisticRegression\n",
    "from sklearn.tree import DecisionTreeClassifier\n",
    "from sklearn.ensemble import RandomForestClassifier\n",
    "from sklearn.svm import SVC\n",
    "from sklearn.neighbors import KNeighborsClassifier\n",
    "from sklearn.metrics import accuracy_score, precision_score, recall_score, f1_score, roc_auc_score, classification_report, confusion_matrix\n",
    "\n",
    "# Cargar los datos\n",
    "data = pd.read_csv(r'C:\\Users\\de969\\OneDrive\\Escritorio\\proyecto, machine learnig\\_marketing\\data\\train.csv',sep='\\t')\n"
   ]
  },
  {
   "cell_type": "code",
   "execution_count": 3,
   "metadata": {},
   "outputs": [
    {
     "name": "stdout",
     "output_type": "stream",
     "text": [
      "<class 'pandas.core.frame.DataFrame'>\n",
      "RangeIndex: 1792 entries, 0 to 1791\n",
      "Data columns (total 29 columns):\n",
      " #   Column               Non-Null Count  Dtype  \n",
      "---  ------               --------------  -----  \n",
      " 0   index,ID             1792 non-null   object \n",
      " 1   Year_Birth           1792 non-null   int64  \n",
      " 2   Education            1792 non-null   object \n",
      " 3   Marital_Status       1792 non-null   object \n",
      " 4   Income               1774 non-null   float64\n",
      " 5   Kidhome              1792 non-null   int64  \n",
      " 6   Teenhome             1792 non-null   int64  \n",
      " 7   Dt_Customer          1792 non-null   object \n",
      " 8   Recency              1792 non-null   int64  \n",
      " 9   MntWines             1792 non-null   int64  \n",
      " 10  MntFruits            1792 non-null   int64  \n",
      " 11  MntMeatProducts      1792 non-null   int64  \n",
      " 12  MntFishProducts      1792 non-null   int64  \n",
      " 13  MntSweetProducts     1792 non-null   int64  \n",
      " 14  MntGoldProds         1792 non-null   int64  \n",
      " 15  NumDealsPurchases    1792 non-null   int64  \n",
      " 16  NumWebPurchases      1792 non-null   int64  \n",
      " 17  NumCatalogPurchases  1792 non-null   int64  \n",
      " 18  NumStorePurchases    1792 non-null   int64  \n",
      " 19  NumWebVisitsMonth    1792 non-null   int64  \n",
      " 20  AcceptedCmp3         1792 non-null   int64  \n",
      " 21  AcceptedCmp4         1792 non-null   int64  \n",
      " 22  AcceptedCmp5         1792 non-null   int64  \n",
      " 23  AcceptedCmp1         1792 non-null   int64  \n",
      " 24  AcceptedCmp2         1792 non-null   int64  \n",
      " 25  Complain             1792 non-null   int64  \n",
      " 26  Z_CostContact        1792 non-null   int64  \n",
      " 27  Z_Revenue            1792 non-null   int64  \n",
      " 28  Response             1792 non-null   int64  \n",
      "dtypes: float64(1), int64(24), object(4)\n",
      "memory usage: 406.1+ KB\n"
     ]
    }
   ],
   "source": [
    "data.info()"
   ]
  },
  {
   "cell_type": "code",
   "execution_count": null,
   "metadata": {},
   "outputs": [],
   "source": []
  },
  {
   "cell_type": "code",
   "execution_count": 4,
   "metadata": {},
   "outputs": [],
   "source": [
    "median_income = data['Income'].median()\n",
    "data['Income'].fillna(median_income, inplace=True)"
   ]
  },
  {
   "cell_type": "code",
   "execution_count": 5,
   "metadata": {},
   "outputs": [
    {
     "name": "stdout",
     "output_type": "stream",
     "text": [
      "<class 'pandas.core.frame.DataFrame'>\n",
      "RangeIndex: 1792 entries, 0 to 1791\n",
      "Data columns (total 29 columns):\n",
      " #   Column               Non-Null Count  Dtype  \n",
      "---  ------               --------------  -----  \n",
      " 0   index,ID             1792 non-null   object \n",
      " 1   Year_Birth           1792 non-null   int64  \n",
      " 2   Education            1792 non-null   object \n",
      " 3   Marital_Status       1792 non-null   object \n",
      " 4   Income               1792 non-null   float64\n",
      " 5   Kidhome              1792 non-null   int64  \n",
      " 6   Teenhome             1792 non-null   int64  \n",
      " 7   Dt_Customer          1792 non-null   object \n",
      " 8   Recency              1792 non-null   int64  \n",
      " 9   MntWines             1792 non-null   int64  \n",
      " 10  MntFruits            1792 non-null   int64  \n",
      " 11  MntMeatProducts      1792 non-null   int64  \n",
      " 12  MntFishProducts      1792 non-null   int64  \n",
      " 13  MntSweetProducts     1792 non-null   int64  \n",
      " 14  MntGoldProds         1792 non-null   int64  \n",
      " 15  NumDealsPurchases    1792 non-null   int64  \n",
      " 16  NumWebPurchases      1792 non-null   int64  \n",
      " 17  NumCatalogPurchases  1792 non-null   int64  \n",
      " 18  NumStorePurchases    1792 non-null   int64  \n",
      " 19  NumWebVisitsMonth    1792 non-null   int64  \n",
      " 20  AcceptedCmp3         1792 non-null   int64  \n",
      " 21  AcceptedCmp4         1792 non-null   int64  \n",
      " 22  AcceptedCmp5         1792 non-null   int64  \n",
      " 23  AcceptedCmp1         1792 non-null   int64  \n",
      " 24  AcceptedCmp2         1792 non-null   int64  \n",
      " 25  Complain             1792 non-null   int64  \n",
      " 26  Z_CostContact        1792 non-null   int64  \n",
      " 27  Z_Revenue            1792 non-null   int64  \n",
      " 28  Response             1792 non-null   int64  \n",
      "dtypes: float64(1), int64(24), object(4)\n",
      "memory usage: 406.1+ KB\n"
     ]
    }
   ],
   "source": [
    "data.info()"
   ]
  },
  {
   "cell_type": "code",
   "execution_count": 6,
   "metadata": {},
   "outputs": [
    {
     "data": {
      "text/plain": [
       "index,ID   Year_Birth  Education   Marital_Status  Income   Kidhome  Teenhome  Dt_Customer  Recency  MntWines  MntFruits  MntMeatProducts  MntFishProducts  MntSweetProducts  MntGoldProds  NumDealsPurchases  NumWebPurchases  NumCatalogPurchases  NumStorePurchases  NumWebVisitsMonth  AcceptedCmp3  AcceptedCmp4  AcceptedCmp5  AcceptedCmp1  AcceptedCmp2  Complain  Z_CostContact  Z_Revenue  Response\n",
       "0,5524     1957        Graduation  Single          58138.0  0        0         04-09-2012   58       635       88         546              172              88                88            3                  8                10                   4                  7                  0             0             0             0             0             0         3              11         1           1\n",
       "1,2174     1954        Graduation  Single          46344.0  1        1         08-03-2014   38       11        1          6                2                1                 6             2                  1                1                    2                  5                  0             0             0             0             0             0         3              11         0           1\n",
       "354,9365   1976        PhD         Single          60000.0  0        1         22-12-2012   57       1048      0          217              0                0                 12            5                  11               3                    5                  6                  0             0             0             0             0             0         3              11         0           1\n",
       "353,11056  1974        Graduation  Married         72099.0  0        0         27-10-2012   18       546       91         410              119              0                 22            1                  3                4                    10                 1                  0             0             0             0             0             0         3              11         0           1\n",
       "352,9185   1966        PhD         Single          69759.0  0        0         28-10-2013   38       452       20         514              13               30                0             3                  4                6                    5                  3                  0             0             0             0             0             0         3              11         1           1\n",
       "                                                                                                                                                                                                                                                                                                                                                                                                                ..\n",
       "1670,8143  1985        PhD         Single          37929.0  0        0         30-07-2013   49       202       2          46               3                2                 10            2                  4                2                    5                  7                  0             1             0             1             0             0         3              11         1           1\n",
       "1669,4127  1967        PhD         Married         77766.0  0        1         22-02-2013   97       1004      59         265              115              59                27            2                  11               10                   11                 6                  1             0             0             0             0             0         3              11         1           1\n",
       "1668,5299  1970        PhD         Married         69084.0  1        0         19-11-2013   43       1181      107        199              39               30                30            2                  7                3                    13                 8                  0             0             0             0             0             0         3              11         0           1\n",
       "1667,7327  1959        PhD         Married         36732.0  1        1         29-12-2013   71       21        5          3                10               1                 7             3                  1                1                    4                  2                  0             0             0             0             0             0         3              11         0           1\n",
       "999,9097   1956        Graduation  Divorced        46086.0  0        1         03-11-2013   34       244       8          32               7                2                 50            4                  3                1                    8                  4                  0             0             0             0             0             0         3              11         0           1\n",
       "Length: 1792, dtype: int64"
      ]
     },
     "execution_count": 6,
     "metadata": {},
     "output_type": "execute_result"
    }
   ],
   "source": [
    "data.value_counts()"
   ]
  },
  {
   "cell_type": "code",
   "execution_count": 7,
   "metadata": {},
   "outputs": [
    {
     "name": "stdout",
     "output_type": "stream",
     "text": [
      "Resultados de la búsqueda de hiperparámetros:\n",
      "Mejor modelo: Pipeline(steps=[('scaler', StandardScaler()),\n",
      "                ('classifier', RandomForestClassifier(n_estimators=50))])\n",
      "Mejores parámetros: {'classifier': RandomForestClassifier(n_estimators=50), 'classifier__n_estimators': 50}\n",
      "Mejor puntuación: 0.9047895963685437\n",
      "Métricas de evaluación en el conjunto de prueba:\n",
      "Accuracy: 0.754874651810585\n",
      "Precision: 0.36363636363636365\n",
      "Recall: 0.6896551724137931\n",
      "F1-score: 0.47619047619047616\n",
      "ROC AUC: 0.7285485164394547\n"
     ]
    }
   ],
   "source": [
    "from imblearn.over_sampling import RandomOverSampler\n",
    "from imblearn.combine import SMOTEENN\n",
    "from sklearn.metrics import accuracy_score, precision_score, recall_score, f1_score, roc_auc_score\n",
    "from sklearn.pipeline import Pipeline\n",
    "from sklearn.model_selection import GridSearchCV\n",
    "from sklearn.preprocessing import StandardScaler\n",
    "from sklearn.linear_model import LogisticRegression\n",
    "from sklearn.tree import DecisionTreeClassifier\n",
    "from sklearn.ensemble import RandomForestClassifier\n",
    "from sklearn.svm import SVC\n",
    "from sklearn.neighbors import KNeighborsClassifier\n",
    "\n",
    "# Seleccionar las características y el objetivo\n",
    "features = ['Year_Birth', 'Income', 'Kidhome', 'Teenhome', 'Recency', 'MntWines',\n",
    "            'MntFruits', 'MntMeatProducts', 'MntFishProducts', 'MntSweetProducts',\n",
    "            'MntGoldProds', 'NumDealsPurchases', 'NumWebPurchases',\n",
    "            'NumCatalogPurchases', 'NumStorePurchases', 'NumWebVisitsMonth',\n",
    "            ]  # Variables predictoras\n",
    "target = 'Response'  # Variable objetivo\n",
    "\n",
    "# Dividir los datos en conjuntos de entrenamiento y prueba\n",
    "X_train, X_test, y_train, y_test = train_test_split(data[features], data[target], test_size=0.2, random_state=42)\n",
    "\n",
    "# Aplicar resampling al conjunto de entrenamiento\n",
    "resampler = SMOTEENN(random_state=42)\n",
    "X_train_resampled, y_train_resampled = resampler.fit_resample(X_train, y_train)\n",
    "\n",
    "# Crear el pipeline con escalado de características y modelo de clasificación\n",
    "pipeline = Pipeline([\n",
    "    ('scaler', StandardScaler()),\n",
    "    ('classifier', None)\n",
    "])\n",
    "\n",
    "# Definir los parámetros del grid search para cada modelo\n",
    "param_grid = [\n",
    "    {\n",
    "        'classifier': [LogisticRegression(solver='liblinear')],\n",
    "        'classifier__C': [0.1, 1, 10]\n",
    "    },\n",
    "    {\n",
    "        'classifier': [DecisionTreeClassifier()],\n",
    "        'classifier__max_depth': [8, 10, 15]\n",
    "    },\n",
    "    {\n",
    "        'classifier': [RandomForestClassifier()],\n",
    "        'classifier__n_estimators': [50, 100, 200]\n",
    "    },\n",
    "    {\n",
    "        'classifier': [SVC()],\n",
    "        'classifier__C': [0.1, 1, 10],\n",
    "        'classifier__kernel': ['linear', 'rbf']\n",
    "    },\n",
    "    {\n",
    "        'classifier': [KNeighborsClassifier()],\n",
    "        'classifier__n_neighbors': [3, 5, 7]\n",
    "    }\n",
    "]\n",
    "\n",
    "# Realizar la búsqueda de hiperparámetros utilizando GridSearchCV\n",
    "grid_search = GridSearchCV(pipeline, param_grid, cv=5, scoring='accuracy')\n",
    "grid_search.fit(X_train_resampled, y_train_resampled)\n",
    "\n",
    "# Obtener los resultados de la búsqueda de hiperparámetros\n",
    "results = grid_search.cv_results_\n",
    "best_model = grid_search.best_estimator_\n",
    "best_params = grid_search.best_params_\n",
    "best_score = grid_search.best_score_\n",
    "\n",
    "# Imprimir los resultados\n",
    "print(\"Resultados de la búsqueda de hiperparámetros:\")\n",
    "print(\"Mejor modelo:\", best_model)\n",
    "print(\"Mejores parámetros:\", best_params)\n",
    "print(\"Mejor puntuación:\", best_score)\n",
    "\n",
    "# Evaluar el mejor modelo en el conjunto de prueba\n",
    "y_pred = best_model.predict(X_test)\n",
    "accuracy = accuracy_score(y_test, y_pred)\n",
    "precision = precision_score(y_test, y_pred)\n",
    "recall = recall_score(y_test, y_pred)\n",
    "f1 = f1_score(y_test, y_pred)\n",
    "roc_auc = roc_auc_score(y_test, y_pred)\n",
    "\n",
    "# Imprimir las métricas de evaluación\n",
    "print(\"Métricas de evaluación en el conjunto de prueba:\")\n",
    "print(\"Accuracy:\", accuracy)\n",
    "print(\"Precision:\", precision)\n",
    "print(\"Recall:\", recall)\n",
    "print(\"F1-score:\", f1)\n",
    "print(\"ROC AUC:\", roc_auc)\n"
   ]
  },
  {
   "cell_type": "code",
   "execution_count": 8,
   "metadata": {},
   "outputs": [
    {
     "name": "stdout",
     "output_type": "stream",
     "text": [
      "Resultados de la búsqueda de hiperparámetros para SMOTE + TomekLinks:\n",
      "Mejor modelo: Pipeline(steps=[('scaler', StandardScaler()), ('resampler', SMOTE()),\n",
      "                ('undersampler', TomekLinks(sampling_strategy='majority')),\n",
      "                ('classifier', RandomForestClassifier(n_estimators=50))])\n",
      "Mejores parámetros: {'classifier__n_estimators': 50}\n",
      "Mejor puntuación: 0.8534562997977633\n"
     ]
    }
   ],
   "source": [
    "from imblearn.over_sampling import SMOTE\n",
    "from imblearn.under_sampling import TomekLinks\n",
    "from imblearn.pipeline import Pipeline\n",
    "\n",
    "# Crear el pipeline con escalado de características, técnica de resampling y modelo de clasificación\n",
    "pipeline_smote_tomek = Pipeline([\n",
    "    ('scaler', StandardScaler()),\n",
    "    ('resampler', SMOTE(sampling_strategy='auto')),\n",
    "    ('undersampler', TomekLinks(sampling_strategy='majority')),\n",
    "    ('classifier', RandomForestClassifier())\n",
    "])\n",
    "\n",
    "# Definir los parámetros del grid search\n",
    "param_grid_smote_tomek = {\n",
    "    'classifier__n_estimators': [50, 100, 200]\n",
    "}\n",
    "\n",
    "# Realizar la búsqueda de hiperparámetros utilizando GridSearchCV\n",
    "grid_search_smote_tomek = GridSearchCV(pipeline_smote_tomek, param_grid_smote_tomek, cv=5, scoring='accuracy')\n",
    "grid_search_smote_tomek.fit(X_train, y_train)\n",
    "\n",
    "# Obtener los resultados de la búsqueda de hiperparámetros\n",
    "best_model_smote_tomek = grid_search_smote_tomek.best_estimator_\n",
    "best_params_smote_tomek = grid_search_smote_tomek.best_params_\n",
    "best_score_smote_tomek = grid_search_smote_tomek.best_score_\n",
    "\n",
    "# Imprimir los resultados\n",
    "print(\"Resultados de la búsqueda de hiperparámetros para SMOTE + TomekLinks:\")\n",
    "print(\"Mejor modelo:\", best_model_smote_tomek)\n",
    "print(\"Mejores parámetros:\", best_params_smote_tomek)\n",
    "print(\"Mejor puntuación:\", best_score_smote_tomek)\n"
   ]
  },
  {
   "cell_type": "code",
   "execution_count": 16,
   "metadata": {},
   "outputs": [
    {
     "data": {
      "text/plain": [
       "['models/mejor_modelo1.pkl']"
      ]
     },
     "execution_count": 16,
     "metadata": {},
     "output_type": "execute_result"
    }
   ],
   "source": [
    "import os\n",
    "import joblib\n",
    "\n",
    "# Tu mejor modelo\n",
    "mejor_modelo = Pipeline(steps=[('scaler', StandardScaler()), ('resampler', SMOTE()),\n",
    "                               ('undersampler', TomekLinks(sampling_strategy='majority')),\n",
    "                               ('classifier', RandomForestClassifier())])\n",
    "\n",
    "# Verificar si el directorio 'data' existe\n",
    "if not os.path.exists('models'):\n",
    "      os.makedirs('models')\n",
    "\n",
    "# Guardar el modelo en un archivo .pkl\n",
    "joblib.dump(mejor_modelo, 'models/mejor_modelo1.pkl')\n"
   ]
  }
 ],
 "metadata": {
  "kernelspec": {
   "display_name": "Python 3",
   "language": "python",
   "name": "python3"
  },
  "language_info": {
   "codemirror_mode": {
    "name": "ipython",
    "version": 3
   },
   "file_extension": ".py",
   "mimetype": "text/x-python",
   "name": "python",
   "nbconvert_exporter": "python",
   "pygments_lexer": "ipython3",
   "version": "3.10.11"
  },
  "orig_nbformat": 4
 },
 "nbformat": 4,
 "nbformat_minor": 2
}
