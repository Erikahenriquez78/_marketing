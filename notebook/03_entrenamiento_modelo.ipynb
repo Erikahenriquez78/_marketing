{
 "cells": [
  {
   "cell_type": "code",
   "execution_count": 54,
   "metadata": {},
   "outputs": [],
   "source": [
    "import pandas as pd\n",
    "from sklearn.model_selection import train_test_split\n",
    "from sklearn.model_selection import train_test_split, GridSearchCV\n",
    "from sklearn.pipeline import Pipeline\n",
    "from sklearn.preprocessing import StandardScaler\n",
    "from sklearn.linear_model import LogisticRegression\n",
    "from sklearn.tree import DecisionTreeClassifier\n",
    "from sklearn.ensemble import RandomForestClassifier\n",
    "from sklearn.svm import SVC\n",
    "from sklearn.neighbors import KNeighborsClassifier\n",
    "from sklearn.metrics import accuracy_score, precision_score, recall_score, f1_score, roc_auc_score, classification_report, confusion_matrix\n",
    "from sklearn.cluster import KMeans\n",
    "\n",
    "# Cargar los datos\n",
    "data = pd.read_csv(r'../data/train.csv',sep=',')\n"
   ]
  },
  {
   "cell_type": "code",
   "execution_count": 55,
   "metadata": {},
   "outputs": [
    {
     "name": "stdout",
     "output_type": "stream",
     "text": [
      "<class 'pandas.core.frame.DataFrame'>\n",
      "RangeIndex: 1792 entries, 0 to 1791\n",
      "Data columns (total 31 columns):\n",
      " #   Column                 Non-Null Count  Dtype  \n",
      "---  ------                 --------------  -----  \n",
      " 0   index                  1792 non-null   int64  \n",
      " 1   ID                     1792 non-null   int64  \n",
      " 2   Year_Birth             1792 non-null   int64  \n",
      " 3   Education              1792 non-null   object \n",
      " 4   Marital_Status         1792 non-null   object \n",
      " 5   Income                 1792 non-null   float64\n",
      " 6   Dt_Customer            1792 non-null   object \n",
      " 7   Recency                1792 non-null   int64  \n",
      " 8   MntWines               1792 non-null   int64  \n",
      " 9   MntFruits              1792 non-null   int64  \n",
      " 10  MntMeatProducts        1792 non-null   int64  \n",
      " 11  MntFishProducts        1792 non-null   int64  \n",
      " 12  MntSweetProducts       1792 non-null   int64  \n",
      " 13  MntGoldProds           1792 non-null   int64  \n",
      " 14  NumDealsPurchases      1792 non-null   int64  \n",
      " 15  NumWebPurchases        1792 non-null   int64  \n",
      " 16  NumCatalogPurchases    1792 non-null   int64  \n",
      " 17  NumStorePurchases      1792 non-null   int64  \n",
      " 18  NumWebVisitsMonth      1792 non-null   int64  \n",
      " 19  AcceptedCmp3           1792 non-null   int64  \n",
      " 20  AcceptedCmp4           1792 non-null   int64  \n",
      " 21  AcceptedCmp5           1792 non-null   int64  \n",
      " 22  AcceptedCmp1           1792 non-null   int64  \n",
      " 23  AcceptedCmp2           1792 non-null   int64  \n",
      " 24  Complain               1792 non-null   int64  \n",
      " 25  Z_Revenue              1792 non-null   int64  \n",
      " 26  Response               1792 non-null   int64  \n",
      " 27  Marital_Status_Binary  1792 non-null   int64  \n",
      " 28  Kids                   1792 non-null   int64  \n",
      " 29  date                   1792 non-null   object \n",
      " 30  monto_gastado          1792 non-null   int64  \n",
      "dtypes: float64(1), int64(26), object(4)\n",
      "memory usage: 434.1+ KB\n"
     ]
    }
   ],
   "source": [
    "data.info()"
   ]
  },
  {
   "cell_type": "code",
   "execution_count": null,
   "metadata": {},
   "outputs": [],
   "source": []
  },
  {
   "cell_type": "code",
   "execution_count": 56,
   "metadata": {},
   "outputs": [],
   "source": [
    "median_income = data['Income'].median()\n",
    "data['Income'].fillna(median_income, inplace=True)"
   ]
  },
  {
   "cell_type": "code",
   "execution_count": 57,
   "metadata": {},
   "outputs": [
    {
     "name": "stdout",
     "output_type": "stream",
     "text": [
      "<class 'pandas.core.frame.DataFrame'>\n",
      "RangeIndex: 1792 entries, 0 to 1791\n",
      "Data columns (total 31 columns):\n",
      " #   Column                 Non-Null Count  Dtype  \n",
      "---  ------                 --------------  -----  \n",
      " 0   index                  1792 non-null   int64  \n",
      " 1   ID                     1792 non-null   int64  \n",
      " 2   Year_Birth             1792 non-null   int64  \n",
      " 3   Education              1792 non-null   object \n",
      " 4   Marital_Status         1792 non-null   object \n",
      " 5   Income                 1792 non-null   float64\n",
      " 6   Dt_Customer            1792 non-null   object \n",
      " 7   Recency                1792 non-null   int64  \n",
      " 8   MntWines               1792 non-null   int64  \n",
      " 9   MntFruits              1792 non-null   int64  \n",
      " 10  MntMeatProducts        1792 non-null   int64  \n",
      " 11  MntFishProducts        1792 non-null   int64  \n",
      " 12  MntSweetProducts       1792 non-null   int64  \n",
      " 13  MntGoldProds           1792 non-null   int64  \n",
      " 14  NumDealsPurchases      1792 non-null   int64  \n",
      " 15  NumWebPurchases        1792 non-null   int64  \n",
      " 16  NumCatalogPurchases    1792 non-null   int64  \n",
      " 17  NumStorePurchases      1792 non-null   int64  \n",
      " 18  NumWebVisitsMonth      1792 non-null   int64  \n",
      " 19  AcceptedCmp3           1792 non-null   int64  \n",
      " 20  AcceptedCmp4           1792 non-null   int64  \n",
      " 21  AcceptedCmp5           1792 non-null   int64  \n",
      " 22  AcceptedCmp1           1792 non-null   int64  \n",
      " 23  AcceptedCmp2           1792 non-null   int64  \n",
      " 24  Complain               1792 non-null   int64  \n",
      " 25  Z_Revenue              1792 non-null   int64  \n",
      " 26  Response               1792 non-null   int64  \n",
      " 27  Marital_Status_Binary  1792 non-null   int64  \n",
      " 28  Kids                   1792 non-null   int64  \n",
      " 29  date                   1792 non-null   object \n",
      " 30  monto_gastado          1792 non-null   int64  \n",
      "dtypes: float64(1), int64(26), object(4)\n",
      "memory usage: 434.1+ KB\n"
     ]
    }
   ],
   "source": [
    "data.info()"
   ]
  },
  {
   "cell_type": "code",
   "execution_count": 58,
   "metadata": {},
   "outputs": [
    {
     "data": {
      "text/plain": [
       "index  ID     Year_Birth  Education   Marital_Status  Income   Dt_Customer  Recency  MntWines  MntFruits  MntMeatProducts  MntFishProducts  MntSweetProducts  MntGoldProds  NumDealsPurchases  NumWebPurchases  NumCatalogPurchases  NumStorePurchases  NumWebVisitsMonth  AcceptedCmp3  AcceptedCmp4  AcceptedCmp5  AcceptedCmp1  AcceptedCmp2  Complain  Z_Revenue  Response  Marital_Status_Binary  Kids  date   monto_gastado\n",
       "0      5524   66          Graduation  Single          58138.0  04-09-2012   58       635       88         546              172              88                88            3                  8                10                   4                  7                  0             0             0             0             0             0         11         1         0                      0     Sep    1617             1\n",
       "1      2174   69          Graduation  Single          46344.0  08-03-2014   38       11        1          6                2                1                 6             2                  1                1                    2                  5                  0             0             0             0             0             0         11         0         0                      2     March  27               1\n",
       "1514   3865   46          2n Cycle    Together        20981.0  30-04-2013   14       2         12         10               6                13                30            1                  3                1                    2                  8                  0             0             0             0             0             0         11         1         1                      0     Apr    73               1\n",
       "1513   9264   37          Graduation  Married         79529.0  27-04-2014   1        423       42         706              73               197               197           1                  4                8                    9                  2                  0             0             0             0             0             0         11         0         1                      0     Apr    1638             1\n",
       "1511   9      48          Master      Single          46098.0  18-08-2012   86       57        0          27               0                0                 36            4                  3                2                    2                  8                  0             0             0             0             0             0         11         0         0                      2     Aug    120              1\n",
       "                                                                                                                                                                                                                                                                                                                                                                                                                                    ..\n",
       "761    6887   56          Graduation  Single          79146.0  24-04-2014   33       245       16         223              21               43                16            2                  8                1                    8                  6                  0             0             0             0             0             0         11         0         0                      2     Apr    564              1\n",
       "760    10270  42          2n Cycle    Married         35523.0  03-10-2013   8        11        5          22               12               5                 11            2                  3                0                    3                  7                  0             0             0             0             0             0         11         0         1                      1     Oct    66               1\n",
       "759    6488   64          PhD         Married         38829.0  06-04-2014   86       76        0          7                0                0                 16            1                  3                2                    2                  5                  0             0             0             0             0             0         11         0         1                      1     Apr    99               1\n",
       "758    10470  44          Master      Married         40662.0  15-03-2013   0        40        2          23               0                4                 23            2                  2                1                    3                  4                  0             0             0             0             0             0         11         0         1                      1     March  92               1\n",
       "2239   9405   69          PhD         Married         52869.0  15-10-2012   40       84        3          61               2                1                 21            3                  3                1                    4                  7                  0             0             0             0             0             0         11         1         1                      2     Oct    172              1\n",
       "Length: 1792, dtype: int64"
      ]
     },
     "execution_count": 58,
     "metadata": {},
     "output_type": "execute_result"
    }
   ],
   "source": [
    "data.value_counts()"
   ]
  },
  {
   "cell_type": "code",
   "execution_count": 59,
   "metadata": {},
   "outputs": [
    {
     "name": "stdout",
     "output_type": "stream",
     "text": [
      "Resultados de la búsqueda de hiperparámetros:\n",
      "Mejor modelo: Pipeline(steps=[('scaler', StandardScaler()),\n",
      "                ('classifier', RandomForestClassifier())])\n",
      "Mejores parámetros: {'classifier': RandomForestClassifier(), 'classifier__n_estimators': 100}\n",
      "Mejor puntuación: 0.896311475409836\n",
      "Métricas de evaluación en el conjunto de prueba:\n",
      "Accuracy: 0.9180327868852459\n",
      "Precision: 0.8863636363636364\n",
      "Recall: 0.9479166666666666\n",
      "F1-score: 0.9161073825503356\n",
      "ROC AUC: 0.9196105072463767\n"
     ]
    }
   ],
   "source": [
    "import pandas as pd\n",
    "from sklearn.model_selection import train_test_split\n",
    "from sklearn.pipeline import Pipeline\n",
    "from sklearn.preprocessing import StandardScaler\n",
    "from sklearn.linear_model import LogisticRegression\n",
    "from sklearn.tree import DecisionTreeClassifier\n",
    "from sklearn.ensemble import RandomForestClassifier\n",
    "from imblearn.over_sampling import RandomOverSampler\n",
    "from sklearn.svm import SVC\n",
    "from sklearn.neighbors import KNeighborsClassifier\n",
    "from sklearn.metrics import accuracy_score, precision_score, recall_score, f1_score, roc_auc_score\n",
    "from sklearn.model_selection import GridSearchCV\n",
    "\n",
    "from sklearn.svm import SVC\n",
    "from sklearn.neighbors import KNeighborsClassifier\n",
    "from sklearn.metrics import accuracy_score, precision_score, recall_score, f1_score, roc_auc_score, classification_report, confusion_matrix\n",
    "\n",
    "import os\n",
    "\n",
    "\n",
    "data = pd.read_csv('../data/train.csv')\n",
    "\n",
    "# Seleccionar las características y el objetivo\n",
    "features = ['Year_Birth', 'Income', 'Recency', 'MntWines',\n",
    "            'MntFruits', 'MntMeatProducts', 'MntFishProducts', 'MntSweetProducts',\n",
    "            'MntGoldProds', 'NumDealsPurchases', 'NumWebPurchases',\n",
    "            'NumCatalogPurchases', 'NumStorePurchases', 'NumWebVisitsMonth',\n",
    "            ]  # Variables predictoras\n",
    "target = 'Response'  # Variable objetivo\n",
    "import pandas as pd\n",
    "from imblearn.over_sampling import SMOTE\n",
    "\n",
    "\n",
    "# Aplicar SMOTE para oversampling\n",
    "oversampler = SMOTE(random_state=42)\n",
    "X_resampled, y_resampled = oversampler.fit_resample(data[features], data[target])\n",
    "\n",
    "# Crear un nuevo DataFrame con las características y el objetivo balanceados\n",
    "balanced_data = pd.DataFrame(X_resampled, columns=features)\n",
    "balanced_data[target] = y_resampled\n",
    "\n",
    "# Dividir los datos en conjuntos de entrenamiento y prueba\n",
    "X_train, X_test, y_train, y_test = train_test_split(balanced_data[features], balanced_data[target], test_size=0.2, random_state=42)\n",
    "\n",
    "\n",
    "# Crear el pipeline con escalado de características y modelo de clasificación\n",
    "pipeline = Pipeline([\n",
    "    ('scaler', StandardScaler()),\n",
    "    ('classifier', None)\n",
    "])\n",
    "\n",
    "# Definir los parámetros del grid search para cada modelo\n",
    "param_grid = [\n",
    "    {\n",
    "        'classifier': [LogisticRegression(solver='liblinear')],\n",
    "        'classifier__C': [0.1, 1, 10]\n",
    "    },\n",
    "    {\n",
    "        'classifier': [DecisionTreeClassifier()],\n",
    "        'classifier__max_depth': [8, 10, 15]\n",
    "    },\n",
    "    {\n",
    "        'classifier': [RandomForestClassifier()],\n",
    "        'classifier__n_estimators': [50, 100, 200]\n",
    "    },\n",
    "    {\n",
    "        'classifier': [SVC()],\n",
    "        'classifier__C': [0.1, 1, 10],\n",
    "        'classifier__kernel': ['linear', 'rbf']\n",
    "    },\n",
    "    {\n",
    "        'classifier': [KNeighborsClassifier()],\n",
    "        'classifier__n_neighbors': [3, 5, 7]\n",
    "    }\n",
    "]\n",
    "\n",
    "# Realizar la búsqueda de hiperparámetros utilizando GridSearchCV\n",
    "grid_search = GridSearchCV(pipeline, param_grid, cv=5, scoring='accuracy')\n",
    "grid_search.fit(X_train, y_train)\n",
    "\n",
    "# Obtener los resultados de la búsqueda de hiperparámetros\n",
    "results = grid_search.cv_results_\n",
    "best_model = grid_search.best_estimator_\n",
    "best_params = grid_search.best_params_\n",
    "best_score = grid_search.best_score_\n",
    "\n",
    "# Imprimir los resultados\n",
    "print(\"Resultados de la búsqueda de hiperparámetros:\")\n",
    "print(\"Mejor modelo:\", best_model)\n",
    "print(\"Mejores parámetros:\", best_params)\n",
    "print(\"Mejor puntuación:\", best_score)\n",
    "\n",
    "# Evaluar el mejor modelo en el conjunto de prueba\n",
    "y_pred = best_model.predict(X_test)\n",
    "accuracy = accuracy_score(y_test, y_pred)\n",
    "precision = precision_score(y_test, y_pred)\n",
    "recall = recall_score(y_test, y_pred)\n",
    "f1 = f1_score(y_test, y_pred)\n",
    "roc_auc = roc_auc_score(y_test, y_pred)\n",
    "\n",
    "# Imprimir las métricas de evaluación\n",
    "print(\"Métricas de evaluación en el conjunto de prueba:\")\n",
    "print(\"Accuracy:\", accuracy)\n",
    "print(\"Precision:\", precision)\n",
    "print(\"Recall:\", recall)\n",
    "print(\"F1-score:\", f1)\n",
    "print(\"ROC AUC:\", roc_auc)\n"
   ]
  },
  {
   "cell_type": "code",
   "execution_count": 60,
   "metadata": {},
   "outputs": [],
   "source": [
    "import pickle\n",
    "\n",
    "# Guardar el mejor modelo en un archivo pickle\n",
    "with open('..\\\\models\\\\modelo1.pkl', 'wb') as file:\n",
    "    pickle.dump(best_model, file)"
   ]
  },
  {
   "cell_type": "code",
   "execution_count": 61,
   "metadata": {},
   "outputs": [
    {
     "name": "stdout",
     "output_type": "stream",
     "text": [
      "Resultados de la búsqueda de hiperparámetros:\n",
      "Mejor modelo: Pipeline(steps=[('scaler', StandardScaler()),\n",
      "                ('model', RandomForestClassifier(n_estimators=50))])\n",
      "Mejores parámetros: {'model': RandomForestClassifier(n_estimators=50), 'model__n_estimators': 50}\n",
      "Mejor puntuación: 0.9589752841421614\n",
      "Métricas de evaluación en el conjunto de prueba:\n",
      "Accuracy: 0.8969359331476323\n",
      "Precision: 0.5517241379310345\n",
      "Recall: 0.4\n",
      "F1-score: 0.463768115942029\n",
      "ROC AUC: 0.6796238244514106\n"
     ]
    }
   ],
   "source": [
    "\n",
    "\n",
    "# Cargar los datos\n",
    "data = pd.read_csv('../data/train.csv')\n",
    "\n",
    "# Seleccionar las características y el objetivo\n",
    "features = ['Year_Birth', 'Income', 'Recency', 'MntWines',\n",
    "            'MntFruits', 'MntMeatProducts', 'MntFishProducts', 'MntSweetProducts',\n",
    "            'MntGoldProds', 'NumDealsPurchases', 'NumWebPurchases',\n",
    "            'NumCatalogPurchases', 'NumStorePurchases', 'NumWebVisitsMonth',\n",
    "            ]  # Variables predictoras\n",
    "target = 'Response'  # Variable objetivo\n",
    "\n",
    "# Dividir los datos en conjuntos de entrenamiento y prueba\n",
    "X_train, X_test, y_train, y_test = train_test_split(data[features], data[target], test_size=0.2, random_state=42)\n",
    "\n",
    "# Aplicar oversampling al conjunto de entrenamiento\n",
    "oversampler = RandomOverSampler(random_state=42)\n",
    "X_train_resampled, y_train_resampled = oversampler.fit_resample(X_train, y_train)\n",
    "\n",
    "# Crear el pipeline con escalado de características y modelo de clasificación\n",
    "pipeline = Pipeline([\n",
    "    ('scaler', StandardScaler()),\n",
    "    ('model', None)\n",
    "])\n",
    "\n",
    "# Definir los parámetros del grid search para cada modelo\n",
    "param_grid = [\n",
    "    {\n",
    "        'model': [LogisticRegression(solver='liblinear')],\n",
    "        'model__C': [0.1, 1, 10]\n",
    "    },\n",
    "    {\n",
    "        'model': [DecisionTreeClassifier()],\n",
    "        'model__max_depth': [8, 10, 15]\n",
    "    },\n",
    "    {\n",
    "        'model': [RandomForestClassifier()],\n",
    "        'model__n_estimators': [50, 100, 200]\n",
    "    },\n",
    "    {\n",
    "        'model': [SVC()],\n",
    "        'model__C': [0.1, 1, 10],\n",
    "        'model__kernel': ['linear', 'rbf']\n",
    "    },\n",
    "    {\n",
    "        'model': [KNeighborsClassifier()],\n",
    "        'model__n_neighbors': [3, 5, 7]\n",
    "    },\n",
    "    {\n",
    "        'model': [KMeans(n_clusters=3,n_init=10)],\n",
    "        'model__n_clusters': [2, 3, 4]\n",
    "    }\n",
    "]\n",
    "\n",
    "# Realizar la búsqueda de hiperparámetros utilizando GridSearchCV\n",
    "grid_search = GridSearchCV(pipeline, param_grid, cv=5, scoring='accuracy')\n",
    "grid_search.fit(X_train_resampled, y_train_resampled)\n",
    "\n",
    "# Obtener los resultados de la búsqueda de hiperparámetros\n",
    "results = grid_search.cv_results_\n",
    "best_model = grid_search.best_estimator_\n",
    "best_params = grid_search.best_params_\n",
    "best_score = grid_search.best_score_\n",
    "\n",
    "# Imprimir los resultados\n",
    "print(\"Resultados de la búsqueda de hiperparámetros:\")\n",
    "print(\"Mejor modelo:\", best_model)\n",
    "print(\"Mejores parámetros:\", best_params)\n",
    "print(\"Mejor puntuación:\", best_score)\n",
    "\n",
    "# Evaluar el mejor modelo en el conjunto de prueba\n",
    "y_pred = best_model.predict(X_test)\n",
    "accuracy = accuracy_score(y_test, y_pred)\n",
    "precision = precision_score(y_test, y_pred)\n",
    "recall = recall_score(y_test, y_pred)\n",
    "f1 = f1_score(y_test, y_pred)\n",
    "roc_auc = roc_auc_score(y_test, y_pred)\n",
    "\n",
    "# Imprimir las métricas de evaluación\n",
    "print(\"Métricas de evaluación en el conjunto de prueba:\")\n",
    "print(\"Accuracy:\", accuracy)\n",
    "print(\"Precision:\", precision)\n",
    "print(\"Recall:\", recall)\n",
    "print(\"F1-score:\", f1)\n",
    "print(\"ROC AUC:\", roc_auc)\n"
   ]
  },
  {
   "cell_type": "code",
   "execution_count": 62,
   "metadata": {},
   "outputs": [
    {
     "data": {
      "text/plain": [
       "0    1206\n",
       "1     227\n",
       "Name: Response, dtype: int64"
      ]
     },
     "execution_count": 62,
     "metadata": {},
     "output_type": "execute_result"
    }
   ],
   "source": [
    "import pandas as pd\n",
    "\n",
    "# Assuming 'y' is your target variable\n",
    "y_train.value_counts()\n"
   ]
  },
  {
   "cell_type": "code",
   "execution_count": 63,
   "metadata": {},
   "outputs": [
    {
     "name": "stdout",
     "output_type": "stream",
     "text": [
      "Métricas de evaluación para Logistic Regression:\n",
      "Accuracy: 0.7520891364902507\n",
      "Precision: 0.25742574257425743\n",
      "Recall: 0.65\n",
      "F1-score: 0.3687943262411348\n",
      "ROC AUC: 0.7074451410658307\n"
     ]
    }
   ],
   "source": [
    "# Entrenar y evaluar el modelo Logistic Regression\n",
    "model_lr = LogisticRegression(solver='liblinear')\n",
    "pipeline.set_params(model=model_lr)\n",
    "pipeline.fit(X_train_resampled, y_train_resampled)\n",
    "y_pred_lr = pipeline.predict(X_test)\n",
    "accuracy_lr = accuracy_score(y_test, y_pred_lr)\n",
    "precision_lr = precision_score(y_test, y_pred_lr)\n",
    "recall_lr = recall_score(y_test, y_pred_lr)\n",
    "f1_lr = f1_score(y_test, y_pred_lr)\n",
    "roc_auc_lr = roc_auc_score(y_test, y_pred_lr)\n",
    "\n",
    "\n",
    "print(\"Métricas de evaluación para Logistic Regression:\")\n",
    "print(\"Accuracy:\", accuracy_lr)\n",
    "print(\"Precision:\", precision_lr)\n",
    "print(\"Recall:\", recall_lr)\n",
    "print(\"F1-score:\", f1_lr)\n",
    "print(\"ROC AUC:\", roc_auc_lr)"
   ]
  },
  {
   "cell_type": "code",
   "execution_count": 64,
   "metadata": {},
   "outputs": [],
   "source": [
    "import pickle\n",
    "\n",
    "# Guardar el modelo Logistic Regression en un archivo\n",
    "filename_lr = '../models/logistic_regression_model.pkl'\n",
    "pickle.dump(model_lr, open(filename_lr, 'wb'))\n"
   ]
  },
  {
   "cell_type": "code",
   "execution_count": 65,
   "metadata": {},
   "outputs": [
    {
     "name": "stdout",
     "output_type": "stream",
     "text": [
      "Métricas de evaluación para Decision Tree:\n",
      "Accuracy: 0.8217270194986073\n",
      "Precision: 0.29310344827586204\n",
      "Recall: 0.425\n",
      "F1-score: 0.3469387755102041\n",
      "ROC AUC: 0.6482366771159874\n"
     ]
    }
   ],
   "source": [
    "# Entrenar y evaluar el modelo Decision Tree\n",
    "model_dt = DecisionTreeClassifier()\n",
    "pipeline.set_params(model=model_dt)\n",
    "pipeline.fit(X_train_resampled, y_train_resampled)\n",
    "y_pred_dt = pipeline.predict(X_test)\n",
    "accuracy_dt = accuracy_score(y_test, y_pred_dt)\n",
    "precision_dt = precision_score(y_test, y_pred_dt)\n",
    "recall_dt = recall_score(y_test, y_pred_dt)\n",
    "f1_dt = f1_score(y_test, y_pred_dt)\n",
    "roc_auc_dt = roc_auc_score(y_test, y_pred_dt)\n",
    "\n",
    "print(\"Métricas de evaluación para Decision Tree:\")\n",
    "print(\"Accuracy:\", accuracy_dt)\n",
    "print(\"Precision:\", precision_dt)\n",
    "print(\"Recall:\", recall_dt)\n",
    "print(\"F1-score:\", f1_dt)\n",
    "print(\"ROC AUC:\", roc_auc_dt)"
   ]
  },
  {
   "cell_type": "code",
   "execution_count": 66,
   "metadata": {},
   "outputs": [],
   "source": [
    "filename_dt = '../models/decision_tree_model.pkl'\n",
    "pickle.dump(model_dt, open(filename_dt, 'wb'))\n"
   ]
  },
  {
   "cell_type": "code",
   "execution_count": 67,
   "metadata": {},
   "outputs": [
    {
     "name": "stdout",
     "output_type": "stream",
     "text": [
      "Métricas de evaluación para SVC:\n",
      "Accuracy: 0.807799442896936\n",
      "Precision: 0.3013698630136986\n",
      "Recall: 0.55\n",
      "F1-score: 0.3893805309734513\n",
      "ROC AUC: 0.6950626959247649\n"
     ]
    }
   ],
   "source": [
    "# Entrenar y evaluar el modelo SVC\n",
    "model_svc = SVC()\n",
    "pipeline.set_params(model=model_svc)\n",
    "pipeline.fit(X_train_resampled, y_train_resampled)\n",
    "y_pred_svc = pipeline.predict(X_test)\n",
    "accuracy_svc = accuracy_score(y_test, y_pred_svc)\n",
    "precision_svc = precision_score(y_test, y_pred_svc)\n",
    "recall_svc = recall_score(y_test, y_pred_svc)\n",
    "f1_svc = f1_score(y_test, y_pred_svc)\n",
    "roc_auc_svc = roc_auc_score(y_test, y_pred_svc)\n",
    "\n",
    "print(\"Métricas de evaluación para SVC:\")\n",
    "print(\"Accuracy:\", accuracy_svc)\n",
    "print(\"Precision:\", precision_svc)\n",
    "print(\"Recall:\", recall_svc)\n",
    "print(\"F1-score:\", f1_svc)\n",
    "print(\"ROC AUC:\", roc_auc_svc)"
   ]
  },
  {
   "cell_type": "code",
   "execution_count": 68,
   "metadata": {},
   "outputs": [],
   "source": [
    "filename_svc = '../models/svc_model.pkl'\n",
    "pickle.dump(model_svc, open(filename_svc, 'wb'))"
   ]
  },
  {
   "cell_type": "code",
   "execution_count": 69,
   "metadata": {},
   "outputs": [
    {
     "name": "stdout",
     "output_type": "stream",
     "text": [
      "Métricas de evaluación para K Nearest Neighbors:\n",
      "Accuracy: 0.7938718662952646\n",
      "Precision: 0.3023255813953488\n",
      "Recall: 0.65\n",
      "F1-score: 0.4126984126984127\n",
      "ROC AUC: 0.7309561128526646\n"
     ]
    }
   ],
   "source": [
    "model_knn = KNeighborsClassifier()\n",
    "pipeline.set_params(model=model_knn)\n",
    "pipeline.fit(X_train_resampled, y_train_resampled)\n",
    "y_pred_knn = pipeline.predict(X_test)\n",
    "accuracy_knn = accuracy_score(y_test, y_pred_knn)\n",
    "precision_knn = precision_score(y_test, y_pred_knn)\n",
    "recall_knn = recall_score(y_test, y_pred_knn)\n",
    "f1_knn = f1_score(y_test, y_pred_knn)\n",
    "roc_auc_knn = roc_auc_score(y_test, y_pred_knn)\n",
    "\n",
    "print(\"Métricas de evaluación para K Nearest Neighbors:\")\n",
    "print(\"Accuracy:\", accuracy_knn)\n",
    "print(\"Precision:\", precision_knn)\n",
    "print(\"Recall:\", recall_knn)\n",
    "print(\"F1-score:\", f1_knn)\n",
    "print(\"ROC AUC:\", roc_auc_knn)"
   ]
  },
  {
   "cell_type": "code",
   "execution_count": 70,
   "metadata": {},
   "outputs": [],
   "source": [
    "filename_knn = '../models/knn_model.pkl'\n",
    "pickle.dump(model_knn, open(filename_knn, 'wb'))"
   ]
  },
  {
   "cell_type": "code",
   "execution_count": 71,
   "metadata": {},
   "outputs": [],
   "source": [
    "from sklearn.cluster import KMeans\n"
   ]
  },
  {
   "cell_type": "code",
   "execution_count": 72,
   "metadata": {},
   "outputs": [
    {
     "name": "stdout",
     "output_type": "stream",
     "text": [
      "Métrica de evaluación para K-Means:\n",
      "Inercia: 19885.840520431666\n",
      "\n"
     ]
    }
   ],
   "source": [
    "# Entrenar y evaluar el modelo K-Means\n",
    "model_kmeans = KMeans(n_clusters=3, n_init=10)\n",
    "pipeline.set_params(model=model_kmeans)\n",
    "pipeline.fit(X_train_resampled, y_train_resampled)\n",
    "y_pred_kmeans = pipeline.predict(X_test)\n",
    "inertia = model_kmeans.inertia_\n",
    "\n",
    "# Imprimir la métrica de evaluación para K-Means\n",
    "print(\"Métrica de evaluación para K-Means:\")\n",
    "print(\"Inercia:\", inertia)\n",
    "print()\n"
   ]
  },
  {
   "cell_type": "code",
   "execution_count": 73,
   "metadata": {},
   "outputs": [],
   "source": [
    "filename_kmeans = '../models/kmeans_model.pkl'\n",
    "pickle.dump(model_kmeans, open(filename_kmeans, 'wb'))"
   ]
  },
  {
   "cell_type": "code",
   "execution_count": 74,
   "metadata": {},
   "outputs": [
    {
     "data": {
      "text/plain": [
       "Index(['index', 'ID', 'Year_Birth', 'Education', 'Marital_Status', 'Income',\n",
       "       'Dt_Customer', 'Recency', 'MntWines', 'MntFruits', 'MntMeatProducts',\n",
       "       'MntFishProducts', 'MntSweetProducts', 'MntGoldProds',\n",
       "       'NumDealsPurchases', 'NumWebPurchases', 'NumCatalogPurchases',\n",
       "       'NumStorePurchases', 'NumWebVisitsMonth', 'AcceptedCmp3',\n",
       "       'AcceptedCmp4', 'AcceptedCmp5', 'AcceptedCmp1', 'AcceptedCmp2',\n",
       "       'Complain', 'Z_Revenue', 'Response', 'Marital_Status_Binary', 'Kids',\n",
       "       'date', 'monto_gastado'],\n",
       "      dtype='object')"
      ]
     },
     "execution_count": 74,
     "metadata": {},
     "output_type": "execute_result"
    }
   ],
   "source": [
    "data.columns"
   ]
  },
  {
   "cell_type": "code",
   "execution_count": 75,
   "metadata": {},
   "outputs": [
    {
     "name": "stdout",
     "output_type": "stream",
     "text": [
      "<class 'pandas.core.frame.DataFrame'>\n",
      "RangeIndex: 1792 entries, 0 to 1791\n",
      "Data columns (total 31 columns):\n",
      " #   Column                 Non-Null Count  Dtype  \n",
      "---  ------                 --------------  -----  \n",
      " 0   index                  1792 non-null   int64  \n",
      " 1   ID                     1792 non-null   int64  \n",
      " 2   Year_Birth             1792 non-null   int64  \n",
      " 3   Education              1792 non-null   object \n",
      " 4   Marital_Status         1792 non-null   object \n",
      " 5   Income                 1792 non-null   float64\n",
      " 6   Dt_Customer            1792 non-null   object \n",
      " 7   Recency                1792 non-null   int64  \n",
      " 8   MntWines               1792 non-null   int64  \n",
      " 9   MntFruits              1792 non-null   int64  \n",
      " 10  MntMeatProducts        1792 non-null   int64  \n",
      " 11  MntFishProducts        1792 non-null   int64  \n",
      " 12  MntSweetProducts       1792 non-null   int64  \n",
      " 13  MntGoldProds           1792 non-null   int64  \n",
      " 14  NumDealsPurchases      1792 non-null   int64  \n",
      " 15  NumWebPurchases        1792 non-null   int64  \n",
      " 16  NumCatalogPurchases    1792 non-null   int64  \n",
      " 17  NumStorePurchases      1792 non-null   int64  \n",
      " 18  NumWebVisitsMonth      1792 non-null   int64  \n",
      " 19  AcceptedCmp3           1792 non-null   int64  \n",
      " 20  AcceptedCmp4           1792 non-null   int64  \n",
      " 21  AcceptedCmp5           1792 non-null   int64  \n",
      " 22  AcceptedCmp1           1792 non-null   int64  \n",
      " 23  AcceptedCmp2           1792 non-null   int64  \n",
      " 24  Complain               1792 non-null   int64  \n",
      " 25  Z_Revenue              1792 non-null   int64  \n",
      " 26  Response               1792 non-null   int64  \n",
      " 27  Marital_Status_Binary  1792 non-null   int64  \n",
      " 28  Kids                   1792 non-null   int64  \n",
      " 29  date                   1792 non-null   object \n",
      " 30  monto_gastado          1792 non-null   int64  \n",
      "dtypes: float64(1), int64(26), object(4)\n",
      "memory usage: 434.1+ KB\n"
     ]
    }
   ],
   "source": [
    "data.info()"
   ]
  },
  {
   "cell_type": "code",
   "execution_count": 76,
   "metadata": {},
   "outputs": [
    {
     "name": "stdout",
     "output_type": "stream",
     "text": [
      "Recuento de clases:\n",
      "0    1525\n",
      "1     267\n",
      "Name: Response, dtype: int64\n",
      "\n",
      "Porcentaje de clases:\n",
      "0    85.100446\n",
      "1    14.899554\n",
      "Name: Response, dtype: float64\n"
     ]
    }
   ],
   "source": [
    "\n",
    "# Calcular el recuento de las clases\n",
    "clases = data['Response'].value_counts()\n",
    "\n",
    "# Calcular el porcentaje de cada clase\n",
    "porcentaje_clases = clases / len(data) * 100\n",
    "\n",
    "# Mostrar los resultados\n",
    "print(\"Recuento de clases:\")\n",
    "print(clases)\n",
    "print(\"\\nPorcentaje de clases:\")\n",
    "print(porcentaje_clases)"
   ]
  }
 ],
 "metadata": {
  "kernelspec": {
   "display_name": "Python 3",
   "language": "python",
   "name": "python3"
  },
  "language_info": {
   "codemirror_mode": {
    "name": "ipython",
    "version": 3
   },
   "file_extension": ".py",
   "mimetype": "text/x-python",
   "name": "python",
   "nbconvert_exporter": "python",
   "pygments_lexer": "ipython3",
   "version": "3.10.11"
  },
  "orig_nbformat": 4
 },
 "nbformat": 4,
 "nbformat_minor": 2
}
