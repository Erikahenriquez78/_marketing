{
 "cells": [
  {
   "cell_type": "code",
   "execution_count": 1,
   "metadata": {},
   "outputs": [],
   "source": [
    "import pandas as pd\n",
    "from sklearn.model_selection import train_test_split\n",
    "from sklearn.model_selection import train_test_split, GridSearchCV\n",
    "from sklearn.pipeline import Pipeline\n",
    "from sklearn.preprocessing import StandardScaler\n",
    "from sklearn.linear_model import LogisticRegression\n",
    "from sklearn.tree import DecisionTreeClassifier\n",
    "from sklearn.ensemble import RandomForestClassifier\n",
    "from sklearn.svm import SVC\n",
    "from sklearn.neighbors import KNeighborsClassifier\n",
    "from sklearn.metrics import accuracy_score, precision_score, recall_score, f1_score, roc_auc_score, classification_report, confusion_matrix\n",
    "from imblearn.over_sampling import SMOTE\n",
    "from imblearn.under_sampling import TomekLinks\n",
    "from imblearn.pipeline import Pipeline\n",
    "\n",
    "from imblearn.over_sampling import RandomOverSampler\n",
    "from imblearn.combine import SMOTEENN\n",
    "from sklearn.metrics import accuracy_score, precision_score, recall_score, f1_score, roc_auc_score\n",
    "from sklearn.pipeline import Pipeline\n",
    "from sklearn.model_selection import GridSearchCV\n",
    "from sklearn.preprocessing import StandardScaler\n",
    "from sklearn.linear_model import LogisticRegression\n",
    "from sklearn.tree import DecisionTreeClassifier\n",
    "from sklearn.ensemble import RandomForestClassifier\n",
    "from sklearn.svm import SVC\n",
    "from sklearn.neighbors import KNeighborsClassifier\n",
    "# Cargar los datos\n",
    "test = pd.read_csv(r'C:\\Users\\de969\\OneDrive\\Escritorio\\proyecto, machine learnig\\_marketing\\data\\test.csv',sep='\\t')\n"
   ]
  },
  {
   "cell_type": "code",
   "execution_count": 2,
   "metadata": {},
   "outputs": [
    {
     "name": "stdout",
     "output_type": "stream",
     "text": [
      "<class 'pandas.core.frame.DataFrame'>\n",
      "RangeIndex: 448 entries, 0 to 447\n",
      "Data columns (total 29 columns):\n",
      " #   Column               Non-Null Count  Dtype  \n",
      "---  ------               --------------  -----  \n",
      " 0   index,ID             448 non-null    object \n",
      " 1   Year_Birth           448 non-null    int64  \n",
      " 2   Education            448 non-null    object \n",
      " 3   Marital_Status       448 non-null    object \n",
      " 4   Income               442 non-null    float64\n",
      " 5   Kidhome              448 non-null    int64  \n",
      " 6   Teenhome             448 non-null    int64  \n",
      " 7   Dt_Customer          448 non-null    object \n",
      " 8   Recency              448 non-null    int64  \n",
      " 9   MntWines             448 non-null    int64  \n",
      " 10  MntFruits            448 non-null    int64  \n",
      " 11  MntMeatProducts      448 non-null    int64  \n",
      " 12  MntFishProducts      448 non-null    int64  \n",
      " 13  MntSweetProducts     448 non-null    int64  \n",
      " 14  MntGoldProds         448 non-null    int64  \n",
      " 15  NumDealsPurchases    448 non-null    int64  \n",
      " 16  NumWebPurchases      448 non-null    int64  \n",
      " 17  NumCatalogPurchases  448 non-null    int64  \n",
      " 18  NumStorePurchases    448 non-null    int64  \n",
      " 19  NumWebVisitsMonth    448 non-null    int64  \n",
      " 20  AcceptedCmp3         448 non-null    int64  \n",
      " 21  AcceptedCmp4         448 non-null    int64  \n",
      " 22  AcceptedCmp5         448 non-null    int64  \n",
      " 23  AcceptedCmp1         448 non-null    int64  \n",
      " 24  AcceptedCmp2         448 non-null    int64  \n",
      " 25  Complain             448 non-null    int64  \n",
      " 26  Z_CostContact        448 non-null    int64  \n",
      " 27  Z_Revenue            448 non-null    int64  \n",
      " 28  Response             448 non-null    int64  \n",
      "dtypes: float64(1), int64(24), object(4)\n",
      "memory usage: 101.6+ KB\n"
     ]
    }
   ],
   "source": [
    "test.info()"
   ]
  },
  {
   "cell_type": "code",
   "execution_count": 4,
   "metadata": {},
   "outputs": [],
   "source": [
    "median_income = test['Income'].median()\n",
    "test['Income'].fillna(median_income, inplace=True)"
   ]
  },
  {
   "cell_type": "code",
   "execution_count": 10,
   "metadata": {},
   "outputs": [
    {
     "name": "stdout",
     "output_type": "stream",
     "text": [
      "Resultados de la búsqueda de hiperparámetros:\n",
      "Mejor modelo: Pipeline(steps=[('scaler', StandardScaler()), ('classifier', SVC(C=10))])\n",
      "Mejores parámetros: {'classifier': SVC(C=10), 'classifier__C': 10, 'classifier__kernel': 'rbf'}\n",
      "Mejor puntuación: 0.8485815602836879\n",
      "Métricas de evaluación en el conjunto de prueba:\n",
      "Accuracy: 0.7666666666666667\n",
      "Precision: 0.21052631578947367\n",
      "Recall: 0.4\n",
      "F1-score: 0.27586206896551724\n",
      "ROC AUC: 0.60625\n"
     ]
    }
   ],
   "source": [
    "\n",
    "\n",
    "# Seleccionar las características y el objetivo\n",
    "features = ['Year_Birth', 'Income', 'Kidhome', 'Teenhome', 'Recency', 'MntWines',\n",
    "            'MntFruits', 'MntMeatProducts', 'MntFishProducts', 'MntSweetProducts',\n",
    "            'MntGoldProds', 'NumDealsPurchases', 'NumWebPurchases',\n",
    "            'NumCatalogPurchases', 'NumStorePurchases', 'NumWebVisitsMonth',\n",
    "            'Z_CostContact', 'Z_Revenue']  # Variables predictoras\n",
    "target = 'Response'  # Variable objetivo\n",
    "\n",
    "# Dividir los datos en conjuntos de entrenamiento y prueba\n",
    "X_train, X_test, y_train, y_test = train_test_split(test[features], test[target], test_size=0.2, random_state=42)\n",
    "\n",
    "# Aplicar resampling al conjunto de entrenamiento\n",
    "resampler = SMOTEENN(random_state=42)\n",
    "X_train_resampled, y_train_resampled = resampler.fit_resample(X_train, y_train)\n",
    "\n",
    "# Crear el pipeline con escalado de características y modelo de clasificación\n",
    "pipeline = Pipeline([\n",
    "    ('scaler', StandardScaler()),\n",
    "    ('classifier', None)\n",
    "])\n",
    "\n",
    "# Definir los parámetros del grid search para cada modelo\n",
    "param_grid = [\n",
    "    {\n",
    "        'classifier': [LogisticRegression(solver='liblinear')],\n",
    "        'classifier__C': [0.1, 1, 10]\n",
    "    },\n",
    "    {\n",
    "        'classifier': [DecisionTreeClassifier()],\n",
    "        'classifier__max_depth': [10, 10, 15]\n",
    "    },\n",
    "    {\n",
    "        'classifier': [RandomForestClassifier()],\n",
    "        'classifier__n_estimators': [50, 100, 200]\n",
    "    },\n",
    "    {\n",
    "        'classifier': [SVC()],\n",
    "        'classifier__C': [0.1, 1, 10],\n",
    "        'classifier__kernel': ['linear', 'rbf']\n",
    "    },\n",
    "    {\n",
    "        'classifier': [KNeighborsClassifier()],\n",
    "        'classifier__n_neighbors': [3, 5, 7]\n",
    "    }\n",
    "]\n",
    "\n",
    "# Realizar la búsqueda de hiperparámetros utilizando GridSearchCV\n",
    "grid_search = GridSearchCV(pipeline, param_grid, cv=5, scoring='accuracy')\n",
    "grid_search.fit(X_train_resampled, y_train_resampled)\n",
    "\n",
    "# Obtener los resultados de la búsqueda de hiperparámetros\n",
    "results = grid_search.cv_results_\n",
    "best_model = grid_search.best_estimator_\n",
    "best_params = grid_search.best_params_\n",
    "best_score = grid_search.best_score_\n",
    "\n",
    "# Imprimir los resultados\n",
    "print(\"Resultados de la búsqueda de hiperparámetros:\")\n",
    "print(\"Mejor modelo:\", best_model)\n",
    "print(\"Mejores parámetros:\", best_params)\n",
    "print(\"Mejor puntuación:\", best_score)\n",
    "\n",
    "# Evaluar el mejor modelo en el conjunto de prueba\n",
    "y_pred = best_model.predict(X_test)\n",
    "accuracy = accuracy_score(y_test, y_pred)\n",
    "precision = precision_score(y_test, y_pred)\n",
    "recall = recall_score(y_test, y_pred)\n",
    "f1 = f1_score(y_test, y_pred)\n",
    "roc_auc = roc_auc_score(y_test, y_pred)\n",
    "\n",
    "# Imprimir las métricas de evaluación\n",
    "print(\"Métricas de evaluación en el conjunto de prueba:\")\n",
    "print(\"Accuracy:\", accuracy)\n",
    "print(\"Precision:\", precision)\n",
    "print(\"Recall:\", recall)\n",
    "print(\"F1-score:\", f1)\n",
    "print(\"ROC AUC:\", roc_auc)"
   ]
  },
  {
   "cell_type": "code",
   "execution_count": 7,
   "metadata": {},
   "outputs": [],
   "source": [
    "import pickle\n",
    "\n",
    "# Guardar el mejor modelo en un archivo pickle\n",
    "with open('mejor_modelo.pkl', 'wb') as file:\n",
    "    pickle.dump(best_model, file)\n"
   ]
  },
  {
   "cell_type": "code",
   "execution_count": 1,
   "metadata": {},
   "outputs": [],
   "source": [
    "\n",
    "\n",
    "# # Crear el pipeline con escalado de características, técnica de resampling y modelo de clasificación\n",
    "# pipeline_smote_tomek = Pipeline([\n",
    "#     ('scaler', StandardScaler()),\n",
    "#     ('resampler', SMOTE(sampling_strategy='auto')),\n",
    "#     ('undersampler', TomekLinks(sampling_strategy='majority')),\n",
    "#     ('classifier', RandomForestClassifier())\n",
    "# ])\n",
    "\n",
    "# # Definir los parámetros del grid search\n",
    "# param_grid_smote_tomek = {\n",
    "#     'classifier__n_estimators': [50, 100, 200]\n",
    "# }\n",
    "\n",
    "# # Realizar la búsqueda de hiperparámetros utilizando GridSearchCV\n",
    "# grid_search_smote_tomek = GridSearchCV(pipeline_smote_tomek, param_grid_smote_tomek, cv=5, scoring='accuracy')\n",
    "# grid_search_smote_tomek.fit(X_train, y_train)\n",
    "\n",
    "# # Obtener los resultados de la búsqueda de hiperparámetros\n",
    "# best_model_smote_tomek = grid_search_smote_tomek.best_estimator_\n",
    "# best_params_smote_tomek = grid_search_smote_tomek.best_params_\n",
    "# best_score_smote_tomek = grid_search_smote_tomek.best_score_\n",
    "\n",
    "# # Imprimir los resultados\n",
    "# print(\"Resultados de la búsqueda de hiperparámetros para SMOTE + TomekLinks:\")\n",
    "# print(\"Mejor modelo:\", best_model_smote_tomek)\n",
    "# print(\"Mejores parámetros:\", best_params_smote_tomek)\n",
    "# print(\"Mejor puntuación:\", best_score_smote_tomek)"
   ]
  },
  {
   "cell_type": "code",
   "execution_count": 30,
   "metadata": {},
   "outputs": [
    {
     "name": "stdout",
     "output_type": "stream",
     "text": [
      "float64\n"
     ]
    }
   ],
   "source": [
    "print(X_test['Income'].dtype)\n"
   ]
  },
  {
   "cell_type": "code",
   "execution_count": 34,
   "metadata": {},
   "outputs": [
    {
     "name": "stdout",
     "output_type": "stream",
     "text": [
      "<class 'pandas.core.frame.DataFrame'>\n",
      "RangeIndex: 448 entries, 0 to 447\n",
      "Data columns (total 29 columns):\n",
      " #   Column               Non-Null Count  Dtype  \n",
      "---  ------               --------------  -----  \n",
      " 0   index,ID             448 non-null    object \n",
      " 1   Year_Birth           448 non-null    int64  \n",
      " 2   Education            448 non-null    object \n",
      " 3   Marital_Status       448 non-null    object \n",
      " 4   Income               448 non-null    float64\n",
      " 5   Kidhome              448 non-null    int64  \n",
      " 6   Teenhome             448 non-null    int64  \n",
      " 7   Dt_Customer          448 non-null    object \n",
      " 8   Recency              448 non-null    int64  \n",
      " 9   MntWines             448 non-null    int64  \n",
      " 10  MntFruits            448 non-null    int64  \n",
      " 11  MntMeatProducts      448 non-null    int64  \n",
      " 12  MntFishProducts      448 non-null    int64  \n",
      " 13  MntSweetProducts     448 non-null    int64  \n",
      " 14  MntGoldProds         448 non-null    int64  \n",
      " 15  NumDealsPurchases    448 non-null    int64  \n",
      " 16  NumWebPurchases      448 non-null    int64  \n",
      " 17  NumCatalogPurchases  448 non-null    int64  \n",
      " 18  NumStorePurchases    448 non-null    int64  \n",
      " 19  NumWebVisitsMonth    448 non-null    int64  \n",
      " 20  AcceptedCmp3         448 non-null    int64  \n",
      " 21  AcceptedCmp4         448 non-null    int64  \n",
      " 22  AcceptedCmp5         448 non-null    int64  \n",
      " 23  AcceptedCmp1         448 non-null    int64  \n",
      " 24  AcceptedCmp2         448 non-null    int64  \n",
      " 25  Complain             448 non-null    int64  \n",
      " 26  Z_CostContact        448 non-null    int64  \n",
      " 27  Z_Revenue            448 non-null    int64  \n",
      " 28  Response             448 non-null    int64  \n",
      "dtypes: float64(1), int64(24), object(4)\n",
      "memory usage: 101.6+ KB\n"
     ]
    }
   ],
   "source": [
    "X_test.info()\n"
   ]
  },
  {
   "cell_type": "code",
   "execution_count": 9,
   "metadata": {},
   "outputs": [
    {
     "name": "stdout",
     "output_type": "stream",
     "text": [
      "Pickle file read: OK\n"
     ]
    }
   ],
   "source": [
    "import pickle\n",
    "from pathlib import Path\n",
    "\n",
    "def read_pickle(file_path: str):\n",
    "    \"\"\"\n",
    "    Read data from a Pickle file.\n",
    "\n",
    "    Args:\n",
    "        file_path (str): Path of the Pickle file.\n",
    "\n",
    "    Returns:\n",
    "        object: Data loaded from the Pickle file, or None if there is an error.\n",
    "    \"\"\"\n",
    "    try:\n",
    "        with open(file_path, \"rb\") as f:\n",
    "            data = pickle.load(f)\n",
    "        print(\"Pickle file read: OK\")\n",
    "        return data\n",
    "    except (FileNotFoundError, IOError, pickle.PickleError) as err:\n",
    "        print(f\"Failed to read Pickle file {file_path}: {err}\")\n",
    "        return None\n",
    "\n",
    "# Leer el modelo desde el archivo Pickle\n",
    "modelo = read_pickle(\"../models/mejor_modelo.pkl\")\n",
    "# median_income = test['Income'].median()\n",
    "# test['Income'].fillna(median_income, inplace=True)\n",
    "# Utilizar el modelo cargado para hacer predicciones, por ejemplo:\n",
    "# X_test = test  # Tus datos de prueba\n",
    "# y_pred = modelo.predict(X_test)"
   ]
  }
 ],
 "metadata": {
  "kernelspec": {
   "display_name": "Python 3",
   "language": "python",
   "name": "python3"
  },
  "language_info": {
   "codemirror_mode": {
    "name": "ipython",
    "version": 3
   },
   "file_extension": ".py",
   "mimetype": "text/x-python",
   "name": "python",
   "nbconvert_exporter": "python",
   "pygments_lexer": "ipython3",
   "version": "3.10.11"
  },
  "orig_nbformat": 4
 },
 "nbformat": 4,
 "nbformat_minor": 2
}
